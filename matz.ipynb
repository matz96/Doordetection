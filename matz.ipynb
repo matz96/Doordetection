{
 "cells": [
  {
   "attachments": {},
   "cell_type": "markdown",
   "metadata": {},
   "source": [
    "Funktioniert!"
   ]
  },
  {
   "cell_type": "code",
   "execution_count": 6,
   "metadata": {},
   "outputs": [
    {
     "name": "stdout",
     "output_type": "stream",
     "text": [
      "Door Detected\n",
      "Door Detected\n"
     ]
    }
   ],
   "source": [
    "\n",
    "import cv2\n",
    "import matplotlib.pyplot as plt\n",
    "\n",
    "# Load the input image\n",
    "img = cv2.imread('/home/matz/SynologyDrive/FHNW/bver/CODE/bver_projekt/bver_projekt/door1_Color.png')\n",
    "\n",
    "# Convert the image to grayscale\n",
    "gray = cv2.cvtColor(img, cv2.COLOR_BGR2GRAY)\n",
    "\n",
    "# Use the Canny edge detector to find edges in the image\n",
    "edges = cv2.Canny(gray, 50, 150, apertureSize = 3)\n",
    "\n",
    "# Compute the threshold for the image\n",
    "#ret, thresh = cv2.threshold(gray, 128, 255, cv2.THRESH_BINARY_INV)\n",
    "\n",
    "# Find the contours in the image\n",
    "contours, hierarchy = cv2.findContours(edges, cv2.RETR_TREE, cv2.CHAIN_APPROX_SIMPLE)\n",
    "door = 0\n",
    "# Loop through the contours and draw rectangles around the doorframes\n",
    "for i, (contour, h) in enumerate(zip(contours, hierarchy[0])):\n",
    "    # If the contour does not have a parent, draw it on the image\n",
    "    if h[3] == -1:\n",
    "         # Find the bounding rectangle for the contour\n",
    "        x, y, w, h = cv2.boundingRect(contour)\n",
    "        if h/w >1.75 and h> 100 and w>50:\n",
    "            # Draw the rectangle on the image\n",
    "            cv2.rectangle(img, (x, y), (x + w, y + h), (0, 255, 0), 2)\n",
    "            door =1\n",
    "            print(\"Door Detected\")\n",
    "        \n",
    "    \n",
    "if door == 0:\n",
    "    print(\"No Door Detected\") \n",
    "# Save the output image\n",
    "\n",
    "# Display the resized image\n",
    "cv2.imshow('hallo', img)\n",
    "cv2.waitKey(0)\n",
    "cv2.destroyAllWindows()"
   ]
  },
  {
   "cell_type": "code",
   "execution_count": 1,
   "metadata": {},
   "outputs": [
    {
     "name": "stderr",
     "output_type": "stream",
     "text": [
      "qt.qpa.plugin: Could not find the Qt platform plugin \"wayland\" in \"/home/matz/.local/lib/python3.10/site-packages/cv2/qt/plugins\"\n"
     ]
    },
    {
     "data": {
      "text/plain": [
       "' This program first defines several helper functions:\\n\\n    get_slope() calculates the slope of a line given the coordinates of two points on the line.\\n    get_y_intercept() calculates the y-intercept of a line given the coordinates of a point on the line and the slope of the line.\\n    get_line_equation() calculates the equation of a line in the form \"y = mx + b\" given the coordinates of two points on the line.\\n    lines_intersect() takes in the equations of two lines and checks if they intersect by comparing their slopes.\\n\\nIt then uses these helper functions to compare two lines and check if they intersect. It defines the coordinates of two points on each line, calculates the equations of the lines, and then uses the lines_intersect() function to check if the lines intersect.\\n '"
      ]
     },
     "execution_count": 1,
     "metadata": {},
     "output_type": "execute_result"
    }
   ],
   "source": [
    "# Import the necessary libraries\n",
    "import cv2\n",
    "import numpy as np\n",
    "\n",
    "# Read in the image\n",
    "img = cv2.imread('/home/matz/SynologyDrive/FHNW/bver/CODE/bver_projekt/bver_projekt/door1_Color.png')\n",
    "\n",
    "# Convert the image to grayscale\n",
    "gray = cv2.cvtColor(img, cv2.COLOR_BGR2GRAY)\n",
    "\n",
    "# Use the Canny edge detector to find edges in the image\n",
    "edges = cv2.Canny(gray, 50, 150, apertureSize = 3)\n",
    "\n",
    "# Use the Hough transform to detect lines in the image\n",
    "line_vert = cv2.HoughLines(edges, 1, np.pi/180, 275,min_theta=2)\n",
    "line_hor = cv2.HoughLines(edges, 1, np.pi/180, 300,max_theta=3)\n",
    "\n",
    "# Create a black image to draw the lines on\n",
    "line_img = np.zeros_like(img)\n",
    "\n",
    "\n",
    "# Loop through the lines and draw them on the image\n",
    "for line in line_vert:\n",
    "    rho, theta = line[0]\n",
    "    a = np.cos(theta)\n",
    "    b = np.sin(theta)\n",
    "    x0 = a*rho\n",
    "    y0 = b*rho\n",
    "    x1 = int(x0 + 1000*(-b))\n",
    "    y1 = int(y0 + 1000*(a))\n",
    "    x2 = int(x0 - 1000*(-b))\n",
    "    y2 = int(y0 - 1000*(a))\n",
    "\n",
    "    cv2.line(line_img, (x1, y1), (x2, y2), (0, 0, 255), 2)\n",
    "\n",
    "cv2.COLORMAP_DEEPGREEN\n",
    "for line in line_hor:\n",
    "    rho, theta = line[0]\n",
    "    a = np.cos(theta)\n",
    "    b = np.sin(theta)\n",
    "    x0 = a*rho\n",
    "    y0 = b*rho\n",
    "    x1 = int(x0 + 1000*(-b))\n",
    "    y1 = int(y0 + 1000*(a))\n",
    "    x2 = int(x0 - 1000*(-b))\n",
    "    y2 = int(y0 - 1000*(a))\n",
    "    \n",
    "    cv2.line(line_img, (x1, y1), (x2, y2), (0, 255, 0), 2) \n",
    "    \n",
    "\n",
    "result = cv2.bitwise_and(img, line_img)\n",
    "\n",
    "\n",
    "# Show the image with the lines drawn on it\n",
    "cv2.imshow('Image with lines', result)\n",
    "cv2.imshow('Image with lines', edges)\n",
    "cv2.waitKey(0)\n",
    "cv2.destroyAllWindows()\n",
    "\n",
    "\n",
    "\n",
    "''' # define a function that takes in the coordinates of two points on a line and returns the slope of the line\n",
    "def get_slope(x1, y1, x2, y2):\n",
    "    return (y2 - y1) / (x2 - x1)\n",
    "\n",
    "# define a function that takes in the coordinates of two points on a line and returns the y-intercept of the line\n",
    "def get_y_intercept(x, y, slope):\n",
    "    return y - (slope * x)\n",
    "\n",
    "# define a function that takes in the coordinates of two points on a line and returns the equation of the line in the form \"y = mx + b\"\n",
    "def get_line_equation(x1, y1, x2, y2):\n",
    "    slope = get_slope(x1, y1, x2, y2)\n",
    "    y_intercept = get_y_intercept(x1, y1, slope)\n",
    "    return f\"y = {slope}x + {y_intercept}\"\n",
    "\n",
    "# define a function that takes in the equations of two lines and checks if they intersect\n",
    "def lines_intersect(line1, line2):\n",
    "    # if the slopes of the two lines are the same, they are parallel and do not intersect\n",
    "    if line1[0] == line2[0]:\n",
    "        return False\n",
    "    else:\n",
    "        # if the slopes are different, the lines intersect at some point\n",
    "        return True\n",
    "\n",
    "# define the coordinates of two points on each line\n",
    "line1_point1 = (1, 1)\n",
    "line1_point2 = (2, 2)\n",
    "\n",
    "line2_point1 = (3, 3)\n",
    "line2_point2 = (4, 4)\n",
    "\n",
    "# get the equations of the lines\n",
    "line1_equation = get_line_equation(line1_point1[0], line1_point1[1], line1_point2[0], line1_point2[1])\n",
    "line2_equation = get_line_equation(line2_point1[0], line2_point1[1], line2_point2[0], line2_point2[1])\n",
    "\n",
    "# check if the lines intersect\n",
    "if lines_intersect(line1_equation, linecv2.drawContours(img, [contour], -1, (0, 255, 0), 2)2_equation):\n",
    "    print(\"The lines intersect.\")\n",
    "else:\n",
    "    print(\"The lines do not intersect.\")\n",
    "  '''\n",
    "\n",
    "''' This program first defines several helper functions:\n",
    "\n",
    "    get_slope() calculates the slope of a line given the coordinates of two points on the line.\n",
    "    get_y_intercept() calculates the y-intercept of a line given the coordinates of a point on the line and the slope of the line.\n",
    "    get_line_equation() calculates the equation of a line in the form \"y = mx + b\" given the coordinates of two points on the line.\n",
    "    lines_intersect() takes in the equations of two lines and checks if they intersect by comparing their slopes.\n",
    "\n",
    "It then uses these helper functions to compare two lines and check if they intersect. It defines the coordinates of two points on each line, calculates the equations of the lines, and then uses the lines_intersect() function to check if the lines intersect.\n",
    " '''"
   ]
  },
  {
   "cell_type": "markdown",
   "metadata": {},
   "source": []
  }
 ],
 "metadata": {
  "kernelspec": {
   "display_name": "Python 3",
   "language": "python",
   "name": "python3"
  },
  "language_info": {
   "codemirror_mode": {
    "name": "ipython",
    "version": 3
   },
   "file_extension": ".py",
   "mimetype": "text/x-python",
   "name": "python",
   "nbconvert_exporter": "python",
   "pygments_lexer": "ipython3",
   "version": "3.10.6"
  },
  "orig_nbformat": 4,
  "vscode": {
   "interpreter": {
    "hash": "31f2aee4e71d21fbe5cf8b01ff0e069b9275f58929596ceb00d14d90e3e16cd6"
   }
  }
 },
 "nbformat": 4,
 "nbformat_minor": 2
}
